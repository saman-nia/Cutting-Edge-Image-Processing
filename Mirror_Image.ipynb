{
 "cells": [
  {
   "cell_type": "code",
   "execution_count": 1,
   "metadata": {},
   "outputs": [],
   "source": [
    "from PIL import Image, ImageDraw"
   ]
  },
  {
   "cell_type": "markdown",
   "metadata": {},
   "source": [
    "load the image and create the mirrored image\n"
   ]
  },
  {
   "cell_type": "code",
   "execution_count": 2,
   "metadata": {},
   "outputs": [],
   "source": [
    "img = Image.open('C:\\Users\\Saman\\PycharmProjects\\IPA\\The-first-assignment-for-IPA\\Lab1-Images\\Lab1-Images\\lena1.png')\n",
    "m = img.transpose(Image.FLIP_LEFT_RIGHT).transpose(Image.ROTATE_90)\n",
    "sz = max(img.size + m.size)\n",
    "result = Image.new(img.mode, (sz,sz))\n",
    "result.paste(img, (0,0)+img.size)"
   ]
  },
  {
   "cell_type": "markdown",
   "metadata": {},
   "source": [
    "Paste the mirrored image with a triangular binary mask"
   ]
  },
  {
   "cell_type": "code",
   "execution_count": 3,
   "metadata": {},
   "outputs": [],
   "source": [
    "mask = Image.new('1', m.size)\n",
    "draw = ImageDraw.Draw(mask)\n",
    "draw.polygon([0,0,0,sz,sz,sz], outline='white', fill='white')\n",
    "result.paste(m, (0,0)+m.size, mask)"
   ]
  },
  {
   "cell_type": "markdown",
   "metadata": {},
   "source": [
    "Save the result"
   ]
  },
  {
   "cell_type": "code",
   "execution_count": 4,
   "metadata": {},
   "outputs": [],
   "source": [
    "result.save('C:\\Users\\Saman\\PycharmProjects\\IPA\\The-first-assignment-for-IPA\\Results\\Mirror_image.png')"
   ]
  },
  {
   "cell_type": "markdown",
   "metadata": {},
   "source": [
    "Show the result"
   ]
  },
  {
   "cell_type": "code",
   "execution_count": 5,
   "metadata": {},
   "outputs": [],
   "source": [
    "from IPython.display import Image\n",
    "Image(filename = 'C:\\Users\\Saman\\PycharmProjects\\IPA\\The-first-assignment-for-IPA\\Results\\Mirror_image.png')"
   ]
  }
 ],
 "metadata": {
  "kernelspec": {
   "display_name": "Python 2",
   "language": "python",
   "name": "python2"
  },
  "language_info": {
   "codemirror_mode": {
    "name": "ipython",
    "version": 2.0
   },
   "file_extension": ".py",
   "mimetype": "text/x-python",
   "name": "python",
   "nbconvert_exporter": "python",
   "pygments_lexer": "ipython2",
   "version": "2.7.6"
  }
 },
 "nbformat": 4,
 "nbformat_minor": 0
}